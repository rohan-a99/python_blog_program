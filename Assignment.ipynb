{
 "cells": [
  {
   "cell_type": "markdown",
   "metadata": {},
   "source": [
    "## Python assignment"
   ]
  },
  {
   "cell_type": "markdown",
   "metadata": {},
   "source": [
    "### Task 1"
   ]
  },
  {
   "cell_type": "code",
   "execution_count": 19,
   "metadata": {
    "scrolled": true
   },
   "outputs": [
    {
     "name": "stdout",
     "output_type": "stream",
     "text": [
      "Enter the String  :\"hello! \\n welcome to Python class on STRINGS. \\n This is our 2nd L@B.\"\n",
      "STRING CONTENT\n",
      "\"hello! \\n welcome to Python class on STRINGS. \\n This is our 2nd L@B.\"\n"
     ]
    }
   ],
   "source": [
    "x = input(\"Enter the String  :\")\n",
    "print(\"STRING CONTENT\")\n",
    "print (x)"
   ]
  },
  {
   "cell_type": "markdown",
   "metadata": {},
   "source": [
    "### Task 2"
   ]
  },
  {
   "cell_type": "code",
   "execution_count": 20,
   "metadata": {},
   "outputs": [
    {
     "name": "stdout",
     "output_type": "stream",
     "text": [
      "\"HELLO! \\N WELCOME TO PYTHON CLASS ON STRINGS. \\N THIS IS OUR 2ND L@B.\"\n"
     ]
    }
   ],
   "source": [
    "print(x.upper())"
   ]
  },
  {
   "cell_type": "code",
   "execution_count": 21,
   "metadata": {},
   "outputs": [
    {
     "name": "stdout",
     "output_type": "stream",
     "text": [
      "Length of string : 71\n"
     ]
    }
   ],
   "source": [
    "print(\"Length of string :\",len(x))"
   ]
  },
  {
   "cell_type": "code",
   "execution_count": 22,
   "metadata": {},
   "outputs": [
    {
     "name": "stdout",
     "output_type": "stream",
     "text": [
      "\"HELLO! \\N WELCOME TO pYTHON CLASS ON strings. \\N tHIS IS OUR 2ND l@b.\"\n"
     ]
    }
   ],
   "source": [
    "print(x.swapcase())"
   ]
  },
  {
   "cell_type": "code",
   "execution_count": 23,
   "metadata": {},
   "outputs": [
    {
     "name": "stdout",
     "output_type": "stream",
     "text": [
      "22\n"
     ]
    }
   ],
   "source": [
    "print(x.find('Python'))"
   ]
  },
  {
   "cell_type": "code",
   "execution_count": 24,
   "metadata": {},
   "outputs": [
    {
     "name": "stdout",
     "output_type": "stream",
     "text": [
      "\"hello! \\n welcome to python class on strings. \\n this is our 2nd l@b.\"\n"
     ]
    }
   ],
   "source": [
    "print(x.casefold())"
   ]
  },
  {
   "cell_type": "markdown",
   "metadata": {},
   "source": [
    "#### Formating Function"
   ]
  },
  {
   "cell_type": "code",
   "execution_count": 25,
   "metadata": {},
   "outputs": [
    {
     "name": "stdout",
     "output_type": "stream",
     "text": [
      "hello! welcome to Python class on STRINGS. This is our 2nd L@B.\n"
     ]
    }
   ],
   "source": [
    "print('hello! welcome to {} class on STRINGS. This is our 2nd L@B.'.format('Python'))"
   ]
  },
  {
   "cell_type": "markdown",
   "metadata": {},
   "source": [
    "#### Format specifiers"
   ]
  },
  {
   "cell_type": "code",
   "execution_count": 26,
   "metadata": {},
   "outputs": [
    {
     "name": "stdout",
     "output_type": "stream",
     "text": [
      "hello! welcome to Python class on STRINGS. This is our 2nd L@B.\n"
     ]
    }
   ],
   "source": [
    "print('hello! welcome to %s class on STRINGS. This is our %dnd L@B.' % ('Python',2))"
   ]
  },
  {
   "cell_type": "markdown",
   "metadata": {},
   "source": [
    "### Task 3"
   ]
  },
  {
   "cell_type": "code",
   "execution_count": 27,
   "metadata": {},
   "outputs": [
    {
     "name": "stdout",
     "output_type": "stream",
     "text": [
      "o\n"
     ]
    }
   ],
   "source": [
    "print(x[5])"
   ]
  },
  {
   "cell_type": "code",
   "execution_count": 28,
   "metadata": {},
   "outputs": [
    {
     "name": "stdout",
     "output_type": "stream",
     "text": [
      "\"hello! \\n\n"
     ]
    }
   ],
   "source": [
    "print(x[0:10])"
   ]
  },
  {
   "cell_type": "markdown",
   "metadata": {},
   "source": [
    "#### Membership operator"
   ]
  },
  {
   "cell_type": "code",
   "execution_count": 29,
   "metadata": {},
   "outputs": [
    {
     "name": "stdout",
     "output_type": "stream",
     "text": [
      "STRING :  \"hello! \\n welcome to Python class on STRINGS. \\n This is our 2nd L@B.\"\n",
      "Python is there in the STRING.\n"
     ]
    }
   ],
   "source": [
    "print('STRING : ',x)\n",
    "\n",
    "if 'Python' in x:\n",
    "    print('Python is there in the STRING.')\n",
    "    \n",
    "else:\n",
    "    print('Python is not there in the STRING.')"
   ]
  },
  {
   "cell_type": "markdown",
   "metadata": {},
   "source": [
    "#### Identity Operator"
   ]
  },
  {
   "cell_type": "code",
   "execution_count": 30,
   "metadata": {},
   "outputs": [
    {
     "name": "stdout",
     "output_type": "stream",
     "text": [
      "\"hello! \\n welcome to Python class on STRINGS. \\n This is our 2nd L@B.\"\n"
     ]
    }
   ],
   "source": [
    "y = x[:]\n",
    "print(y)"
   ]
  },
  {
   "cell_type": "code",
   "execution_count": 31,
   "metadata": {},
   "outputs": [
    {
     "name": "stdout",
     "output_type": "stream",
     "text": [
      "x and y are the same string\n"
     ]
    }
   ],
   "source": [
    "if y is x:\n",
    "    print('x and y are the same string')\n",
    "    \n",
    "else:\n",
    "    print('x and y are not the same string')"
   ]
  },
  {
   "cell_type": "markdown",
   "metadata": {},
   "source": [
    "#### Contatenating operator"
   ]
  },
  {
   "cell_type": "code",
   "execution_count": 32,
   "metadata": {},
   "outputs": [
    {
     "name": "stdout",
     "output_type": "stream",
     "text": [
      "Enter your Name :rohan\n",
      "\n",
      "\"hello!rohan\\n welcome to Python class on STRINGS. \\n This is our 2nd L@B.\"\n"
     ]
    }
   ],
   "source": [
    "name = input(\"Enter your Name :\")\n",
    "z = len(name)+1\n",
    "a = x[8:]\n",
    "print(\"\\n\"+ x[:7]+ name + a)\n"
   ]
  },
  {
   "cell_type": "markdown",
   "metadata": {},
   "source": [
    "#### Logical OR operator"
   ]
  },
  {
   "cell_type": "code",
   "execution_count": 37,
   "metadata": {},
   "outputs": [
    {
     "name": "stdout",
     "output_type": "stream",
     "text": [
      "The string contains one of 'L@B' or 'bca' \n"
     ]
    }
   ],
   "source": [
    "if 'L@B' or 'bca' in x:\n",
    "    print(\"The string contains one of 'L@B' or 'bca' \")\n",
    "    \n",
    "elif 'L@B' and 'bca' in x:\n",
    "    print(\"The string contains both 'L@B' and 'bca' \")"
   ]
  },
  {
   "cell_type": "markdown",
   "metadata": {},
   "source": [
    "### Task 4"
   ]
  },
  {
   "cell_type": "code",
   "execution_count": 2,
   "metadata": {},
   "outputs": [
    {
     "name": "stdout",
     "output_type": "stream",
     "text": [
      "Let's play Name_Place_Animal_Thing\n",
      "\n",
      "enter the letter:r\n",
      " player 1 name  :\n",
      "enter a name:sristi\n",
      "enter a place:ranchi\n",
      "enter an animal:rat\n",
      "enter a thingrose\n",
      "\n",
      "Enter the player 2 name:\n",
      "enter a name:rohan\n",
      "enter a place:ranchi\n",
      "enter an animal:rat\n",
      "enter a thing:rose\n",
      "Player 2 wins\n"
     ]
    }
   ],
   "source": [
    "print(\"Let's play Name_Place_Animal_Thing\")\n",
    "letter=input(\"\\nenter the letter:\")\n",
    "print(\" player 1 name  :\")\n",
    "name= input(\"enter a name:\")\n",
    "place=input(\"enter a place:\")\n",
    "animal=input(\"enter an animal:\")\n",
    "thing = input(\"enter a thing\")\n",
    "\n",
    "print(\"\\nEnter the player 2 name:\")\n",
    "name1= input(\"enter a name:\")\n",
    "place1=input(\"enter a place:\")\n",
    "animal1=input(\"enter an animal:\")\n",
    "thing1 = input(\"enter a thing:\")\n",
    "\n",
    "\n",
    "if name ==\"\" or place==\"\" or animal ==\"\" or thing==\"\":\n",
    "    if name1 ==\"\" or place1==\"\" or animal1 ==\"\" or thing1==\"\":\n",
    "        print(\"player both the players have lost\")\n",
    "    elif name1[0]== letter and thing1[0]== letter and place1[0]==letter and animal1[0]==letter:\n",
    "        print(\"player 2 wins\")\n",
    "    else:\n",
    "        print(\"No one wins\")\n",
    "                                                         \n",
    "                                                         \n",
    "elif name1 ==\"\" or place1==\"\" or animal1 ==\"\" or thing1==\"\":\n",
    "     if name[0]==letter and thing[0]==letter and place[0]==letter and animal[0]==letter:\n",
    "         print(\"Player 1 wins.\")\n",
    "     \n",
    "     else:\n",
    "         print(\"No one wins\")\n",
    "                                                             \n",
    "                                                             \n",
    "else:\n",
    "    if name1[0]== letter and thing1[0]== letter and place1[0]==letter and animal1[0]==letter and name[0]==letter and thing[0]==letter and place[0]==letter and animal[0]==letter:\n",
    "        print(\"Both player wins\")\n",
    "        \n",
    "        \n",
    "    elif name[0]==letter and thing[0]==letter and place[0]==letter and animal[0]==letter:\n",
    "        if name1[0]!=letter or thing1[0]!=letter or place1[0]!=letter or animal1[0]!=letter:\n",
    "            print(\"Player 1 wins\")\n",
    "        \n",
    "        \n",
    "        \n",
    "    elif name1[0]==letter and thing1[0]==letter and place1[0]==letter and animal1[0]==letter:\n",
    "        if name[0]!=letter or thing[0]!=letter or place[0]!=letter or animal[0]!=letter:\n",
    "            print(\"Player 2 wins\")\n",
    "        \n",
    "        \n",
    "        "
   ]
  },
  {
   "cell_type": "markdown",
   "metadata": {},
   "source": [
    "### Task 5"
   ]
  },
  {
   "cell_type": "code",
   "execution_count": 1,
   "metadata": {},
   "outputs": [
    {
     "name": "stdout",
     "output_type": "stream",
     "text": [
      "Enter color :White\n",
      "Enter plural noun :Clouds\n",
      "Enter celebrity :Mr. Bean\n",
      "\n",
      "OUTPUT :\n",
      "\n",
      "Roses are White, Clouds are blue, I love Mr. Bean.\n"
     ]
    }
   ],
   "source": [
    "color = input(\"Enter color :\")\n",
    "pluralNoun = input(\"Enter plural noun :\")\n",
    "celebrity = input(\"Enter celebrity :\")\n",
    "\n",
    "print(\"\\nOUTPUT :\\n\")\n",
    "print(\"Roses are \" + color+ \", \" + pluralNoun + \" are blue, I love \" + celebrity+\".\" )"
   ]
  },
  {
   "cell_type": "code",
   "execution_count": null,
   "metadata": {},
   "outputs": [],
   "source": []
  }
 ],
 "metadata": {
  "kernelspec": {
   "display_name": "Python 3",
   "language": "python",
   "name": "python3"
  },
  "language_info": {
   "codemirror_mode": {
    "name": "ipython",
    "version": 3
   },
   "file_extension": ".py",
   "mimetype": "text/x-python",
   "name": "python",
   "nbconvert_exporter": "python",
   "pygments_lexer": "ipython3",
   "version": "3.8.2"
  }
 },
 "nbformat": 4,
 "nbformat_minor": 4
}
